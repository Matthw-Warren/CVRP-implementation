{
 "cells": [
  {
   "cell_type": "markdown",
   "id": "d6719dfc",
   "metadata": {},
   "source": [
    "# Map testing\n",
    "This is just a notebook because folium works nicely in them and we dont have to go into browser every time!?\n",
    "\n"
   ]
  },
  {
   "cell_type": "code",
   "execution_count": 1,
   "id": "f912c94b",
   "metadata": {},
   "outputs": [],
   "source": [
    "\n",
    "import folium\n",
    "import numpy as np\n",
    "from src.components import components as cp\n",
    "import pandas as pd\n",
    "import datetime as dt\n",
    "\n",
    "data = pd.read_csv('/Users/matthewwarren/Docs/SetVRP/RepoTemplate/src/components/data/postcodes_coords.csv')\n",
    "\n",
    "\n",
    "#Ok - So here we shall work with some sample data, but in reality we'd actually want our real coords.\n",
    "# We'll use the same random seed as we did in testing.py\n",
    "np.random.seed(15)\n",
    "random_rows = np.random.randint(0, data.shape[0], 500)\n",
    "#Shall again import the data.\n",
    "\n",
    "\n",
    "\n",
    "\n",
    "#For each order we also want generate an id and a cost. Here the id's will just be 'ord001' to 'ord100', and the cost will be a random number between 10 and 100.\n",
    "order_ids = ['ord' + str(i).zfill(3) for i in range(501)]\n",
    "random_costs = np.random.randint(10,100,500)\n",
    "random_volumes = np.random.randint(1,3,5000)\n",
    "random_locations = [cp.location(data.iloc[i,0], (data.iloc[i,1], data.iloc[i,2])) for i in random_rows]\n",
    "\n",
    "#We'll also initialise the depot location which we'd like to be at the centre of our map - shall set this as\n",
    "depot_location = cp.location('M20 2XE', (53.422998567402104, -2.2503037071493703))\n",
    "\n",
    "\n",
    "\n",
    "#We now create the map in folium\n",
    "m = folium.Map(location=depot_location.coords)\n",
    "\n",
    "# Add depot marker\n",
    "folium.Marker(\n",
    "    depot_location.coords,\n",
    "    popup= f\"Depot, Postcode = {depot_location.postcode}\",\n",
    "    icon=folium.Icon(color=\"red\", icon=\"home\")\n",
    ").add_to(m)\n",
    "\n",
    "\n",
    "\n",
    "for i, loc in enumerate([x.coords for x in random_locations]):\n",
    "    folium.Marker(\n",
    "        loc,\n",
    "        popup=f\"Customer {i+1}\",\n",
    "        icon=folium.Icon(color=\"blue\", icon=\"home\")\n",
    "    ).add_to(m)\n",
    "\n",
    "\n",
    "\n",
    "\n",
    "\n"
   ]
  },
  {
   "cell_type": "code",
   "execution_count": null,
   "id": "446d5eb3",
   "metadata": {},
   "outputs": [],
   "source": []
  },
  {
   "cell_type": "markdown",
   "id": "48205be9",
   "metadata": {},
   "source": []
  }
 ],
 "metadata": {
  "kernelspec": {
   "display_name": "base",
   "language": "python",
   "name": "python3"
  },
  "language_info": {
   "codemirror_mode": {
    "name": "ipython",
    "version": 3
   },
   "file_extension": ".py",
   "mimetype": "text/x-python",
   "name": "python",
   "nbconvert_exporter": "python",
   "pygments_lexer": "ipython3",
   "version": "3.12.7"
  }
 },
 "nbformat": 4,
 "nbformat_minor": 5
}
